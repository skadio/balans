{
 "cells": [
  {
   "cell_type": "code",
   "execution_count": null,
   "metadata": {},
   "outputs": [],
   "source": [
    "import matplotlib.pyplot as plt\n",
    "import numpy as np\n",
    "from mabwiser.mab import LearningPolicy\n",
    "\n",
    "from alns import ALNS\n",
    "from alns.accept import *\n",
    "from alns.select import *\n",
    "from alns.stop import *\n",
    "import pandas as pd\n",
    "import math\n",
    "import os\n",
    "import pyscipopt as scip"
   ]
  },
  {
   "cell_type": "code",
   "execution_count": null,
   "metadata": {
    "pycharm": {
     "name": "#%%\n"
    }
   },
   "outputs": [],
   "source": [
    "%matplotlib inline"
   ]
  },
  {
   "cell_type": "code",
   "execution_count": null,
   "metadata": {
    "pycharm": {
     "name": "#%%\n"
    }
   },
   "outputs": [],
   "source": [
    "SEED = 42"
   ]
  },
  {
   "cell_type": "code",
   "execution_count": 111,
   "metadata": {
    "pycharm": {
     "name": "#%%\n"
    }
   },
   "outputs": [],
   "source": [
    "np.random.seed(SEED)"
   ]
  },
  {
   "cell_type": "markdown",
   "metadata": {},
   "source": [
    "# Generic Problem State"
   ]
  },
  {
   "cell_type": "code",
   "execution_count": 78,
   "metadata": {},
   "outputs": [],
   "source": [
    "class ProblemState:\n",
    "    \"\"\"\n",
    "    Generic problem class for the mip problem. It stores the current\n",
    "    solution as a vector of variables, one for each item.\n",
    "\n",
    "    Current objective also stored.\n",
    "    \"\"\"\n",
    "    def __init__(self, x, model):\n",
    "        self.x=x #solution type:scip.sol\n",
    "        self.model = model\n",
    "        self.solution = self.transform_solution_to_array()#type: np.array\n",
    "        self.incumbent = self.solution\n",
    "\n",
    "\n",
    "    def objective(self):\n",
    "        #retrieve the objective value of the current solution\n",
    "        return self.model.getSolObjVal(self.x)\n",
    "\n",
    "    def proxy_objective(self) -> int:\n",
    "        p = np.random.randint(1, 100, size=len(self.solution))\n",
    "        return p @ self.model\n",
    "\n",
    "    def length(self) -> int:\n",
    "        return len(self.solution)\n",
    "\n",
    "    def get_solution(self):\n",
    "        return self.solution\n",
    "\n",
    "    def get_objective(self):\n",
    "        # TODO output as minimize\n",
    "        return self.model.getSolObjVal(self.x)\n",
    "\n",
    "    #for now leave it empty\n",
    "    def get_context(self):\n",
    "        return None\n",
    "    \n",
    "    def array_to_sol(self):\n",
    "        scip_sol = self.model.createSol()\n",
    "        for var in self.model.getVars():\n",
    "            self.model.setSolVal(scip_sol, var, self.solution[var]) #needs to be index\n",
    "        return scip_sol\n",
    "    def transform_solution_to_array(self):\n",
    "        solution_array = []\n",
    "        for i in range(self.model.getNVars()):\n",
    "            solution_array.append(self.model.getSolVal(self.x, self.model.getVars()[i]))\n",
    "        solution_array = np.array(solution_array)\n",
    "\n",
    "        return solution_array\n"
   ]
  },
  {
   "cell_type": "markdown",
   "metadata": {},
   "source": [
    "# MUTATION Destroy Operator mutation_op"
   ]
  },
  {
   "cell_type": "code",
   "execution_count": 92,
   "metadata": {},
   "outputs": [],
   "source": [
    "def extract_variable_features(state:ProblemState):\n",
    "        varbls = state.model.getVars()\n",
    "        var_types = [v.vtype() for v in varbls]\n",
    "        lbs = [v.getLbGlobal() for v in varbls]\n",
    "        ubs = [v.getUbGlobal() for v in varbls]\n",
    "\n",
    "        type_mapping = {\"BINARY\": 0, \"INTEGER\": 1, \"IMPLINT\": 2, \"CONTINUOUS\": 3}\n",
    "        var_types_numeric = [type_mapping.get(t, 0) for t in var_types]\n",
    "\n",
    "        variable_features = pd.DataFrame({\n",
    "            'var_type': var_types_numeric,\n",
    "            'var_lb': lbs,\n",
    "            'var_ub': ubs\n",
    "        })\n",
    "\n",
    "        variable_features = variable_features.astype({'var_type': int, 'var_lb': float, 'var_ub': float})\n",
    "\n",
    "        return variable_features  # pd.dataframe\n",
    "\n",
    "def to_destroy_mut(discrete) -> int:\n",
    "        delta = 0.25\n",
    "        return int(delta * len(discrete))\n",
    "\n",
    "def find_discrete(state:ProblemState):\n",
    "        discrete = []\n",
    "        for i in range(state.length()):\n",
    "            var_features = extract_variable_features(state)\n",
    "            if var_features['var_type'][i] == 0 or var_features['var_type'][i] == 1:\n",
    "                discrete.append(i)\n",
    "        return discrete\n",
    "\n",
    "def mutation_op(state:ProblemState,rnd_state):\n",
    "\n",
    "        discrete = find_discrete(state)\n",
    "\n",
    "        to_remove = rnd_state.choice(discrete, size=to_destroy_mut(discrete))\n",
    "        \n",
    "        #fix variable yapman lazim burada \n",
    "        \n",
    "    \n",
    "        \n",
    "        assignments = state.solution.copy()\n",
    "        assignments[to_remove] = None \n",
    "        print(assignments)\n",
    "        \n",
    "        scip_sol = state.model.createSol()\n",
    "        subMIP_vars = state.model.getVars()\n",
    "\n",
    "        \n",
    "        for i in range(state.model.getNVars()):\n",
    "            val= assignments[i]\n",
    "            state.model.setSolVal(scip_sol,subMIP_vars[i],val)\n",
    "            \n",
    "            \n",
    "            \n",
    "        #         for var in state.model.getVars()[var]:\n",
    "        #             print(\"var\",var)\n",
    "        #             #state.model.setSolVal(scip_sol, var, assignments[var])\n",
    "\n",
    "\n",
    "        return ProblemState(scip_sol,state.model)\n",
    "\n",
    "\n"
   ]
  },
  {
   "cell_type": "markdown",
   "metadata": {},
   "source": [
    "# Mutation Repair"
   ]
  },
  {
   "cell_type": "code",
   "execution_count": 93,
   "metadata": {},
   "outputs": [],
   "source": [
    "def repair_op(state: ProblemState,rnd_state) -> ProblemState:\n",
    "    \n",
    "    #Not the most effective way but it works!\n",
    "    #for i in to_remove:\n",
    "    #   state.model.addCons(state.model.getVars()[i] == state.solution[i])\n",
    "    \n",
    "    for var in state.model.getVars():\n",
    "        if np.isnan(state.x[var]): \n",
    "            state.model.addCons(var == state.x[var])\n",
    "\n",
    "            #model.addCons(x + y + z == 32, name=\"Heads\")\n",
    "\n",
    "            \n",
    "    #s.getVal(x) == s.getSolVal(solution, x)\n",
    "    state.model.optimize()\n",
    "\n",
    "\n",
    "    solution = state.model.getBestSol()\n",
    "    \n",
    "    state = ProblemState(solution, state.model)\n",
    "    #print(solution)\n",
    "    return state\n"
   ]
  },
  {
   "cell_type": "markdown",
   "metadata": {
    "pycharm": {
     "name": "#%% md\n"
    }
   },
   "source": [
    "## ALNS"
   ]
  },
  {
   "cell_type": "code",
   "execution_count": 94,
   "metadata": {
    "pycharm": {
     "name": "#%%\n"
    }
   },
   "outputs": [],
   "source": [
    "def make_alns() -> ALNS:\n",
    "    rnd_state = np.random.RandomState(SEED)\n",
    "    alns = ALNS(rnd_state)\n",
    "\n",
    "    alns.add_destroy_operator(mutation_op)\n",
    "\n",
    "    alns.add_repair_operator(repair_op)\n",
    "\n",
    "    return alns"
   ]
  },
  {
   "cell_type": "markdown",
   "metadata": {},
   "source": [
    "# Read MIP instance"
   ]
  },
  {
   "cell_type": "code",
   "execution_count": 95,
   "metadata": {},
   "outputs": [],
   "source": [
    "import numpy as np\n",
    "import pyscipopt as scip\n",
    "\n",
    "\n",
    "class BaseRead:\n",
    "    def __init__(self, problem_instance_file: str) -> None:\n",
    "        self.model = scip.Model()\n",
    "        self.model.hideOutput()\n",
    "        self.model.readProblem(problem_instance_file)\n",
    "\n",
    "\n",
    "class ReadInstance(BaseRead):\n",
    "    def __init__(self, problem_instance_file: str) -> None:\n",
    "        super().__init__(problem_instance_file)\n",
    "        #self.var_features = self.extract_variable_features()\n",
    "\n",
    "\n",
    "    def get_sense(self) -> str:\n",
    "        \"\"\"\n",
    "        Returns\n",
    "        -------\n",
    "        objective -> Minimize or Maximize\n",
    "        \"\"\"\n",
    "\n",
    "        sense = self.model.getObjectiveSense()\n",
    "        return sense\n",
    "\n",
    "    def get_model(self):\n",
    "        return self.model\n"
   ]
  },
  {
   "cell_type": "markdown",
   "metadata": {},
   "source": [
    "# Find initial feasible state (with solution gap and time)"
   ]
  },
  {
   "cell_type": "code",
   "execution_count": 96,
   "metadata": {},
   "outputs": [],
   "source": [
    "def initial_state(instance_path,gap,time) -> ProblemState:\n",
    "    # TODO implement a function that returns an initial solution\n",
    "\n",
    "    # TODO Solve with scip stop at feasible\n",
    "    instance = ReadInstance(problem_instance_file=instance_path)\n",
    "    model = instance.get_model()\n",
    "\n",
    "    # solution gap is less than %50  > STOP, terrible but, good start.\n",
    "    model.setParam(\"limits/gap\", gap)\n",
    "    model.setParam('limits/time', time)\n",
    "    model.optimize()\n",
    "    solution = []\n",
    "    for v in model.getVars():\n",
    "        if v.name != \"n\":\n",
    "            solution.append(model.getVal(v))\n",
    "    #solution = np.array(solution)\n",
    "    len_sol = len(solution)\n",
    "    solution = model.getBestSol()\n",
    "    #print(\"init sol\", self.model.getObjVal())\n",
    "\n",
    "    #solution2=model.createSol() #scip in icinde tanimli\n",
    "    #solution3=model.createSol()\n",
    "    state = ProblemState(solution, model)\n",
    "\n",
    "    return state"
   ]
  },
  {
   "cell_type": "markdown",
   "metadata": {},
   "source": [
    "# MIP instance from MIPLIB"
   ]
  },
  {
   "cell_type": "code",
   "execution_count": 97,
   "metadata": {},
   "outputs": [],
   "source": [
    "instance_path = \"neos-5140963-mincio.mps.gz\""
   ]
  },
  {
   "cell_type": "code",
   "execution_count": 98,
   "metadata": {
    "pycharm": {
     "name": "#%%\n"
    },
    "scrolled": true
   },
   "outputs": [
    {
     "name": "stdout",
     "output_type": "stream",
     "text": [
      "Initial Feasible Solution: [ 1.  0.  1.  0.  0.  0.  0.  0.  0.  0.  0.  0.  0.  0.  0.  0.  0.  0.\n",
      "  0.  1.  0.  0.  0.  0.  0.  0.  0.  0.  0.  0.  1.  0.  0.  0.  0.  0.\n",
      "  0.  0.  0.  0.  0.  0.  0.  0.  0.  0.  0.  0.  0.  0.  0.  0.  1.  0.\n",
      "  0.  0.  0.  0.  0.  0.  0.  0.  1.  0.  0.  0.  0.  0.  0.  0.  0.  1.\n",
      "  0.  0.  0.  0.  0.  0.  0.  0.  0.  0.  0.  0.  0.  0.  0.  0.  0.  1.\n",
      "  0.  0.  0.  0.  0.  0.  0.  0.  0.  1.  0.  0.  0.  0.  0.  0.  0.  0.\n",
      "  0.  0.  0.  0.  0.  1.  0.  0.  0.  0.  0.  0.  0.  0.  0.  0.  0.  0.\n",
      "  0.  1.  0.  0.  0.  0.  0.  0.  0.  0.  0.  0.  0.  0.  0.  0.  0.  0.\n",
      "  1.  0.  0.  1.  0.  0.  0.  0.  0.  0.  0.  0.  0.  0.  1.  0.  0.  0.\n",
      "  0.  0.  0.  0.  0.  0.  0.  0.  0.  0.  0.  0.  0.  0.  0.  0.  0.  0.\n",
      "  0.  0.  0. 10. 11.  2.  1.  6.  5.  4.  3.  7.  9. 12.  8.  0.]\n"
     ]
    }
   ],
   "source": [
    "# Terrible - but simple - two first solution, where only the first item is\n",
    "# selected.\n",
    "init_sol = initial_state(instance_path,0.50,30)\n",
    "\n",
    "#print(init_sol.transform_solution_to_array())\n",
    "\n",
    "init_sol2 = initial_state(instance_path,0.75,30)\n",
    "print(\"Initial Feasible Solution:\", init_sol2.transform_solution_to_array())\n"
   ]
  },
  {
   "cell_type": "markdown",
   "metadata": {
    "pycharm": {
     "name": "#%% md\n"
    }
   },
   "source": [
    "## Operator selection schemes\n",
    "\n",
    "We now have everything set-up for solving the problem. We will now look at several of the operator selection schemes the `alns` package offers. The list is not exhaustive: for a complete overview, head over to `alns.select` in the documentation.\n",
    "\n",
    "Here, we use the `HillClimbing` acceptance criterion, which only accepts better solutions."
   ]
  },
  {
   "cell_type": "code",
   "execution_count": 99,
   "metadata": {
    "pycharm": {
     "name": "#%%\n"
    }
   },
   "outputs": [],
   "source": [
    "accept = HillClimbing()"
   ]
  },
  {
   "cell_type": "code",
   "execution_count": 100,
   "metadata": {
    "pycharm": {
     "name": "#%%\n"
    }
   },
   "outputs": [
    {
     "name": "stdout",
     "output_type": "stream",
     "text": [
      "[ 0. nan  0.  1.  0.  0.  0.  0. nan  0.  0.  0.  0. nan nan  1.  0. nan\n",
      "  0.  0. nan nan  0.  0.  0.  0.  0.  0.  0.  0.  0.  0.  0.  0.  0.  0.\n",
      "  0. nan  0.  0.  0.  0.  0.  0.  0.  0.  0.  0. nan  0. nan  1. nan  0.\n",
      " nan  0.  0. nan nan nan  0.  0.  0. nan  0.  0.  0.  0.  0.  0.  0. nan\n",
      " nan  0. nan  1.  0.  0.  0.  0.  0.  0.  0.  0.  1.  0.  0. nan nan  0.\n",
      "  0.  0.  0.  0.  0.  0.  0.  0.  0. nan  0.  0. nan nan  0.  0. nan nan\n",
      "  0.  0.  0.  0.  0.  0.  0.  0. nan  1.  0.  0.  0. nan  0.  0.  0.  0.\n",
      "  0.  1.  0. nan nan nan  0.  0. nan  0.  0.  0.  0.  0.  0.  0.  0.  0.\n",
      "  1.  0.  1.  0.  0. nan  0. nan  0.  0.  0.  0.  0. nan  0.  0. nan  1.\n",
      "  0.  0.  0.  0. nan  0.  0. nan  0.  0.  0.  0. nan  0.  0.  0.  1.  0.\n",
      "  0.  0.  0.  0. 11.  5.  6.  4.  3.  8.  7.  1. 12.  9.  2. 13.]\n",
      "[ 0. nan  0. nan  0.  0.  0. nan nan  0.  0.  0.  0. nan nan  1.  0.  0.\n",
      "  0.  0.  0.  0.  0. nan  0.  0.  0.  0.  0.  0.  0.  0.  0.  0. nan  0.\n",
      "  0.  1.  0. nan nan  0.  0. nan nan  0.  0. nan  0. nan  0.  1. nan nan\n",
      "  0.  0.  0.  0.  1.  0.  0.  0. nan  0. nan  0.  0.  0.  0.  0. nan  0.\n",
      "  0.  0.  0.  1.  0.  0.  0.  0. nan nan  0.  0.  1.  0.  0. nan nan  0.\n",
      "  0. nan  0.  0. nan  0.  0.  0.  0.  1.  0.  0.  0. nan  0. nan  0.  0.\n",
      "  0.  0. nan  0.  0.  0.  0.  0.  0.  1.  0.  0.  0.  0.  0. nan  0.  0.\n",
      "  0.  1. nan  0.  0. nan  0. nan  0. nan  0.  0. nan  0.  0.  0.  0.  0.\n",
      "  1. nan  1.  0.  0.  0.  0.  0.  0. nan  0.  0. nan  0.  0.  0.  0. nan\n",
      "  0. nan  0.  0.  0.  0.  0.  0.  0. nan  0.  0. nan  0.  0.  0.  1.  0.\n",
      "  0.  0.  0.  0. 11.  5.  6.  4.  3.  8.  7.  1. 12.  9.  2. 13.]\n",
      "[nan  0.  0.  1. nan  0.  0.  0.  0.  0.  0. nan nan  0. nan  1.  0.  0.\n",
      "  0.  0.  0.  0.  0.  0.  0.  0. nan nan nan  0.  0.  0. nan  0. nan nan\n",
      " nan  1.  0.  0. nan nan  0.  0.  0.  0.  0. nan  0.  0.  0. nan  0.  0.\n",
      "  0.  0.  0.  0.  1.  0.  0. nan nan  0.  0.  0.  0.  0.  0.  0. nan nan\n",
      "  0.  0.  0.  1.  0.  0.  0.  0.  0.  0.  0.  0.  1. nan  0.  0.  0. nan\n",
      "  0.  0.  0.  0.  0. nan  0.  0. nan  1. nan  0. nan nan  0.  0.  0.  0.\n",
      "  0.  0.  0.  0.  0.  0.  0.  0.  0.  1.  0.  0.  0.  0. nan nan  0.  0.\n",
      "  0.  1.  0.  0. nan nan  0.  0. nan  0. nan  0.  0.  0.  0. nan nan  0.\n",
      "  1.  0.  1.  0.  0.  0. nan  0.  0.  0.  0.  0.  0.  0.  0. nan  0. nan\n",
      "  0.  0.  0.  0.  0.  0.  0.  0. nan nan  0.  0. nan  0.  0.  0. nan  0.\n",
      "  0.  0.  0.  0. 11.  5.  6.  4.  3.  8.  7.  1. 12.  9.  2. 13.]\n",
      "[ 0. nan nan  1.  0.  0.  0.  0.  0.  0.  0. nan  0.  0.  0.  1.  0.  0.\n",
      "  0.  0.  0.  0.  0.  0.  0.  0. nan nan  0. nan  0.  0.  0.  0.  0.  0.\n",
      "  0.  1. nan  0.  0.  0.  0. nan  0.  0.  0.  0.  0.  0. nan nan  0. nan\n",
      "  0.  0.  0.  0. nan  0.  0. nan  0.  0.  0.  0.  0.  0.  0.  0.  0.  0.\n",
      "  0.  0. nan  1.  0.  0.  0.  0. nan  0.  0. nan  1.  0.  0.  0.  0.  0.\n",
      "  0. nan  0.  0.  0. nan  0.  0.  0.  1. nan  0. nan  0.  0.  0.  0. nan\n",
      "  0.  0.  0.  0. nan  0.  0. nan  0. nan  0.  0. nan  0.  0.  0.  0.  0.\n",
      "  0. nan nan nan nan  0.  0. nan  0.  0. nan  0.  0.  0.  0.  0.  0.  0.\n",
      "  1.  0.  1.  0.  0.  0.  0. nan  0.  0. nan  0.  0.  0.  0. nan  0.  1.\n",
      "  0.  0. nan  0.  0.  0.  0.  0.  0. nan  0.  0.  0.  0.  0.  0.  1. nan\n",
      "  0.  0.  0.  0. 11.  5.  6.  4.  3.  8.  7.  1. 12.  9.  2. 13.]\n",
      "[ 0.  0. nan  1.  0.  0.  0.  0.  0.  0. nan  0.  0.  0.  0.  1.  0.  0.\n",
      "  0.  0.  0.  0.  0. nan  0.  0.  0.  0.  0.  0.  0.  0.  0.  0.  0.  0.\n",
      "  0. nan nan  0.  0. nan  0.  0.  0.  0.  0.  0.  0.  0.  0. nan nan  0.\n",
      "  0.  0.  0.  0.  1.  0.  0.  0.  0.  0.  0.  0.  0. nan nan nan  0.  0.\n",
      "  0.  0.  0.  1.  0.  0.  0.  0.  0. nan  0.  0.  1.  0.  0.  0.  0. nan\n",
      "  0.  0. nan  0.  0. nan nan nan nan  1.  0.  0.  0. nan  0.  0.  0.  0.\n",
      "  0.  0.  0.  0.  0.  0.  0. nan  0.  1.  0.  0.  0.  0. nan nan  0. nan\n",
      "  0. nan nan nan  0.  0.  0.  0.  0.  0.  0.  0. nan  0.  0.  0.  0. nan\n",
      " nan  0. nan nan  0.  0. nan  0.  0.  0.  0.  0.  0.  0. nan nan nan  1.\n",
      "  0. nan  0.  0.  0. nan  0.  0.  0. nan  0.  0.  0.  0.  0. nan  1.  0.\n",
      "  0.  0. nan  0. 11.  5.  6.  4.  3.  8.  7.  1. 12.  9.  2. 13.]\n",
      "[ 0. nan  0.  1.  0.  0.  0.  0. nan  0.  0.  0.  0.  0.  0.  1.  0.  0.\n",
      "  0.  0. nan  0.  0.  0.  0.  0.  0.  0.  0.  0.  0.  0. nan  0.  0.  0.\n",
      " nan  1.  0.  0.  0.  0.  0.  0.  0.  0.  0. nan  0.  0.  0.  1.  0. nan\n",
      "  0.  0.  0.  0.  1. nan  0.  0.  0.  0.  0.  0.  0. nan  0.  0.  0.  0.\n",
      "  0.  0. nan  1.  0.  0.  0.  0.  0. nan  0. nan  1.  0.  0.  0.  0.  0.\n",
      "  0.  0. nan  0.  0.  0.  0.  0. nan  1.  0.  0.  0. nan  0.  0.  0.  0.\n",
      "  0. nan  0. nan nan  0.  0. nan  0.  1.  0. nan  0.  0.  0.  0.  0.  0.\n",
      "  0. nan nan  0. nan  0.  0.  0.  0.  0.  0.  0.  0. nan  0. nan  0.  0.\n",
      "  1. nan nan nan  0.  0.  0. nan nan  0.  0.  0.  0.  0.  0. nan nan  1.\n",
      " nan nan  0. nan  0.  0. nan  0.  0.  0.  0.  0.  0.  0.  0.  0.  1.  0.\n",
      "  0.  0.  0.  0. 11.  5.  6.  4.  3.  8.  7.  1. 12.  9.  2. 13.]\n",
      "[ 0.  0.  0. nan  0. nan  0. nan  0.  0.  0.  0.  0.  0.  0.  1. nan  0.\n",
      "  0.  0. nan nan  0. nan  0.  0. nan nan  0. nan  0.  0. nan  0. nan  0.\n",
      " nan nan  0.  0.  0.  0.  0.  0.  0. nan  0. nan nan  0. nan  1.  0.  0.\n",
      "  0.  0.  0.  0.  1.  0. nan  0.  0.  0.  0.  0. nan  0.  0.  0.  0.  0.\n",
      "  0.  0.  0.  1.  0.  0.  0.  0.  0.  0.  0.  0.  1.  0.  0.  0.  0.  0.\n",
      "  0.  0. nan  0. nan  0. nan  0. nan  1.  0.  0.  0.  0.  0.  0.  0.  0.\n",
      " nan  0. nan  0.  0.  0. nan nan nan  1. nan  0.  0.  0.  0. nan  0.  0.\n",
      "  0. nan  0.  0.  0.  0.  0.  0.  0.  0.  0.  0.  0.  0.  0.  0.  0.  0.\n",
      " nan  0. nan  0.  0.  0.  0.  0.  0.  0.  0.  0.  0. nan  0. nan nan  1.\n",
      "  0.  0.  0.  0.  0.  0.  0.  0.  0. nan  0.  0.  0. nan  0.  0.  1.  0.\n",
      " nan nan  0.  0. 11.  5.  6.  4.  3.  8.  7.  1. 12.  9.  2. 13.]\n",
      "[ 0.  0.  0.  1.  0.  0.  0. nan  0.  0.  0.  0. nan  0.  0.  1. nan  0.\n",
      "  0. nan  0.  0.  0. nan  0. nan  0.  0.  0.  0.  0. nan  0.  0.  0. nan\n",
      "  0.  1. nan  0.  0.  0. nan  0.  0.  0.  0.  0.  0. nan  0.  1.  0. nan\n",
      "  0.  0. nan nan  1. nan  0.  0.  0.  0. nan nan nan  0.  0.  0.  0.  0.\n",
      "  0.  0.  0.  1.  0.  0.  0.  0.  0.  0.  0.  0.  1. nan  0.  0.  0.  0.\n",
      "  0. nan  0.  0.  0.  0.  0. nan nan  1.  0.  0.  0. nan  0.  0.  0.  0.\n",
      "  0.  0.  0.  0.  0. nan nan  0.  0.  1.  0.  0.  0.  0.  0.  0.  0.  0.\n",
      " nan  1.  0. nan  0.  0.  0.  0. nan  0. nan  0.  0.  0.  0. nan nan nan\n",
      "  1.  0.  1.  0.  0.  0. nan nan nan  0. nan  0.  0.  0.  0.  0. nan  1.\n",
      "  0.  0.  0.  0.  0.  0.  0. nan  0.  0. nan nan nan nan  0.  0.  1.  0.\n",
      "  0.  0.  0.  0. 11.  5.  6.  4.  3.  8.  7.  1. 12.  9.  2. 13.]\n",
      "[ 0.  0.  0.  1. nan nan  0. nan  0.  0.  0.  0. nan  0. nan  1.  0.  0.\n",
      " nan  0.  0.  0. nan  0.  0.  0.  0.  0.  0.  0.  0.  0.  0.  0.  0.  0.\n",
      "  0.  1.  0.  0.  0.  0.  0.  0.  0.  0. nan  0. nan  0.  0. nan nan nan\n",
      " nan  0.  0. nan  1. nan  0. nan nan  0.  0.  0.  0.  0.  0. nan  0.  0.\n",
      "  0.  0.  0.  1.  0.  0.  0.  0.  0.  0.  0.  0.  1. nan  0.  0.  0. nan\n",
      "  0. nan  0. nan  0.  0.  0.  0. nan  1. nan  0. nan  0.  0. nan  0. nan\n",
      " nan  0.  0.  0.  0. nan  0. nan nan  1.  0. nan  0.  0.  0. nan nan  0.\n",
      "  0.  1.  0.  0.  0.  0.  0.  0.  0.  0.  0.  0.  0.  0.  0.  0.  0. nan\n",
      " nan  0. nan  0.  0. nan  0.  0.  0.  0.  0.  0.  0. nan  0.  0.  0.  1.\n",
      "  0.  0.  0.  0.  0. nan  0. nan  0.  0.  0.  0.  0.  0.  0.  0.  1. nan\n",
      "  0.  0. nan  0. 11.  5.  6.  4.  3.  8.  7.  1. 12.  9.  2. 13.]\n",
      "[nan  0.  0. nan  0.  0.  0.  0.  0. nan  0.  0.  0.  0.  0. nan  0.  0.\n",
      "  0.  0.  0. nan nan  0.  0.  0.  0.  0. nan  0.  0.  0. nan nan  0.  0.\n",
      "  0.  1. nan  0.  0.  0.  0.  0.  0.  0. nan nan  0.  0.  0.  1.  0.  0.\n",
      "  0.  0.  0. nan  1.  0.  0.  0.  0.  0.  0.  0.  0.  0. nan  0.  0.  0.\n",
      "  0.  0.  0. nan  0.  0.  0.  0.  0.  0.  0.  0. nan nan  0.  0. nan  0.\n",
      "  0.  0. nan nan  0. nan  0.  0.  0. nan nan  0.  0.  0.  0.  0.  0.  0.\n",
      "  0.  0.  0.  0.  0.  0.  0.  0. nan nan  0.  0.  0. nan  0.  0.  0. nan\n",
      "  0.  1. nan  0.  0.  0.  0.  0.  0.  0.  0. nan  0.  0.  0.  0.  0. nan\n",
      "  1.  0. nan  0.  0.  0.  0.  0.  0. nan  0.  0.  0.  0.  0.  0.  0.  1.\n",
      "  0.  0.  0.  0.  0.  0.  0.  0.  0.  0.  0.  0.  0. nan  0.  0. nan nan\n",
      "  0.  0.  0.  0. 11.  5.  6.  4.  3.  8.  7.  1. 12.  9.  2. 13.]\n",
      "Found solution with objective 15500.0.\n"
     ]
    }
   ],
   "source": [
    "select = RouletteWheel(scores=[5, 2, 1, 0.5],\n",
    "                       decay=0.8,\n",
    "                       num_destroy=1,\n",
    "                       num_repair=1)\n",
    "\n",
    "alns = make_alns()\n",
    "res = alns.iterate(init_sol, select, accept, MaxIterations(10))\n",
    "\n",
    "print(f\"Found solution with objective {res.best_state.objective()}.\")"
   ]
  },
  {
   "cell_type": "markdown",
   "metadata": {},
   "source": [
    "### More advanced bandit algorithms\n",
    "\n",
    "Operator selection can be seen as a multi-armed-bandit problem.\n",
    "Each operator pair is a bandit arm, and the reward for each arm corresponds to the evaluation outcome depending on the score array.\n",
    "Accordingly, any multi-armed bandit algorithm can be used as an operator selection scheme.\n",
    "ALNS integrates with [MABWiser](https://github.com/fidelity/mabwiser/) to provide access to more bandit algorithms. \n",
    "You may install MABWiser as an extra dependency using `pip install alns[mabwiser]`.\n",
    "\n",
    "Here, we use a simple epsilon-greedy algorithm from MABWiser.\n",
    "The algorithm picks a random operator pair with probability $\\epsilon=0.15$ and otherwise chooses the operator pair with the largest mean so far."
   ]
  },
  {
   "cell_type": "code",
   "execution_count": 101,
   "metadata": {},
   "outputs": [
    {
     "name": "stdout",
     "output_type": "stream",
     "text": [
      "[ 0. nan  0.  1.  0.  0.  0.  0.  0.  0.  0.  0.  0.  0. nan  1.  0. nan\n",
      "  0.  0. nan nan  0.  0.  0.  0.  0.  0.  0.  0.  0.  0.  0.  0.  0.  0.\n",
      "  0. nan  0.  0.  0.  0.  0.  0.  0.  0.  0.  0. nan  0. nan  1. nan  0.\n",
      " nan  0.  0. nan nan  0.  0.  0.  0. nan  0.  0.  0.  0.  0.  0.  0. nan\n",
      " nan  0. nan  1.  0.  0.  0.  0.  0.  0.  0.  0.  1.  0.  0. nan nan  0.\n",
      "  0.  0. nan  0.  0.  0.  0.  0.  0. nan  0.  0. nan nan  0.  0. nan nan\n",
      "  0.  0.  0.  0.  0.  0.  0.  0. nan  1.  0.  0.  0. nan  0.  0.  0.  0.\n",
      "  0.  1.  0. nan nan nan  0.  0. nan  0.  0.  0.  0.  0.  0.  0.  0.  0.\n",
      "  1.  0.  1.  0.  0. nan  0. nan  0.  0.  0.  0.  0. nan  0.  0. nan  1.\n",
      "  0.  0.  0.  0. nan  0.  0. nan  0.  0.  0.  0. nan  0.  0.  0.  1. nan\n",
      "  0.  0.  0.  0. 11.  5.  6.  4.  3.  8.  7.  1. 12.  9.  2. 13.]\n",
      "[ 0. nan  0. nan  0.  0.  0. nan nan  0.  0.  0.  0. nan nan  1.  0.  0.\n",
      "  0.  0.  0.  0.  0. nan  0.  0.  0.  0.  0.  0.  0.  0.  0.  0. nan  0.\n",
      "  0.  1.  0. nan nan  0.  0. nan nan  0.  0. nan  0. nan  0.  1. nan nan\n",
      "  0.  0.  0.  0.  1. nan  0.  0.  0.  0. nan  0.  0.  0.  0.  0.  0.  0.\n",
      "  0.  0.  0.  1.  0.  0.  0.  0. nan nan  0. nan  1.  0.  0.  0. nan nan\n",
      "  0. nan  0.  0. nan  0.  0.  0.  0.  1.  0.  0.  0. nan  0. nan  0.  0.\n",
      "  0.  0. nan  0.  0.  0.  0.  0.  0.  1.  0.  0.  0.  0.  0. nan  0.  0.\n",
      "  0.  1.  0. nan  0. nan  0. nan  0.  0.  0.  0.  0.  0.  0.  0.  0.  0.\n",
      "  1. nan  1.  0.  0.  0.  0.  0.  0. nan  0.  0. nan  0.  0.  0.  0. nan\n",
      "  0. nan  0.  0.  0.  0.  0.  0.  0. nan  0.  0. nan  0.  0.  0.  1.  0.\n",
      "  0.  0.  0.  0. 11.  5.  6.  4.  3.  8.  7.  1. 12.  9.  2. 13.]\n",
      "[nan  0.  0.  1. nan  0.  0.  0. nan  0.  0. nan  0.  0. nan  1.  0.  0.\n",
      "  0.  0.  0.  0.  0.  0.  0.  0. nan nan  0.  0.  0.  0. nan  0. nan  0.\n",
      " nan  1.  0.  0. nan nan  0.  0.  0.  0.  0. nan  0.  0.  0.  1.  0.  0.\n",
      "  0.  0.  0.  0.  1.  0.  0. nan nan  0.  0.  0.  0.  0.  0.  0. nan nan\n",
      "  0.  0.  0.  1.  0.  0.  0.  0. nan  0.  0.  0.  1.  0.  0. nan  0. nan\n",
      "  0.  0.  0.  0.  0. nan  0.  0. nan  1. nan  0. nan nan  0.  0.  0.  0.\n",
      "  0.  0.  0.  0.  0.  0.  0.  0.  0.  1.  0.  0.  0.  0. nan nan  0.  0.\n",
      "  0.  1. nan  0. nan  0.  0.  0. nan nan nan  0. nan  0.  0. nan  0.  0.\n",
      "  1.  0.  1.  0.  0.  0. nan  0.  0.  0.  0.  0.  0.  0.  0.  0.  0. nan\n",
      " nan  0.  0.  0.  0.  0.  0.  0.  0. nan  0.  0. nan  0.  0.  0. nan  0.\n",
      "  0.  0.  0.  0. 11.  5.  6.  4.  3.  8.  7.  1. 12.  9.  2. 13.]\n",
      "[ 0.  0. nan  1.  0.  0.  0.  0.  0.  0.  0.  0. nan  0.  0.  1.  0.  0.\n",
      "  0.  0.  0.  0.  0.  0.  0.  0. nan nan nan nan  0.  0.  0.  0.  0. nan\n",
      "  0.  1.  0.  0.  0.  0.  0. nan nan  0.  0.  0.  0.  0. nan nan  0.  0.\n",
      "  0.  0.  0.  0. nan  0.  0. nan  0.  0.  0. nan  0.  0.  0.  0. nan  0.\n",
      "  0.  0. nan  1.  0.  0.  0.  0.  0.  0.  0. nan  1. nan  0.  0.  0.  0.\n",
      "  0. nan  0.  0.  0. nan  0.  0.  0.  1.  0.  0. nan  0.  0.  0.  0. nan\n",
      "  0.  0.  0.  0.  0.  0.  0. nan  0. nan  0.  0. nan  0.  0.  0.  0.  0.\n",
      "  0. nan nan  0.  0. nan  0. nan  0.  0. nan  0.  0.  0.  0.  0. nan  0.\n",
      "  1.  0.  1.  0.  0.  0. nan nan  0.  0. nan  0.  0.  0.  0. nan  0.  1.\n",
      "  0.  0. nan  0.  0.  0.  0. nan nan nan  0.  0.  0.  0.  0.  0.  1.  0.\n",
      "  0.  0.  0.  0. 11.  5.  6.  4.  3.  8.  7.  1. 12.  9.  2. 13.]\n",
      "[ 0. nan nan  1.  0.  0.  0.  0.  0.  0.  0. nan  0.  0.  0.  1.  0.  0.\n",
      "  0.  0.  0.  0.  0. nan  0.  0.  0.  0.  0.  0.  0.  0.  0.  0.  0.  0.\n",
      "  0. nan nan  0.  0.  0.  0.  0.  0.  0.  0.  0.  0.  0.  0. nan nan nan\n",
      "  0.  0.  0.  0.  1.  0.  0. nan  0.  0.  0.  0.  0. nan nan nan  0.  0.\n",
      "  0.  0.  0.  1.  0.  0.  0.  0. nan  0.  0.  0.  1.  0. nan  0.  0. nan\n",
      "  0.  0. nan  0.  0.  0. nan nan  0.  1. nan  0.  0.  0.  0.  0.  0.  0.\n",
      "  0.  0.  0.  0. nan  0.  0. nan  0.  1.  0.  0.  0.  0. nan nan  0. nan\n",
      "  0.  1. nan nan nan  0.  0.  0.  0.  0.  0.  0. nan  0.  0.  0.  0. nan\n",
      " nan  0. nan nan  0.  0.  0.  0.  0.  0.  0.  0.  0.  0.  0. nan  0.  1.\n",
      "  0. nan  0.  0.  0.  0.  0.  0.  0. nan  0.  0.  0.  0.  0.  0.  1. nan\n",
      "  0.  0. nan  0. 11.  5.  6.  4.  3.  8.  7.  1. 12.  9.  2. 13.]\n",
      "[ 0. nan  0.  1.  0.  0. nan  0. nan  0. nan  0.  0.  0.  0.  1.  0.  0.\n",
      "  0.  0.  0.  0.  0.  0.  0.  0.  0.  0.  0.  0.  0.  0.  0.  0.  0.  0.\n",
      " nan  1. nan  0.  0. nan  0.  0.  0.  0.  0. nan  0.  0.  0. nan  0. nan\n",
      "  0.  0.  0.  0.  1. nan  0.  0.  0.  0.  0.  0.  0.  0.  0.  0.  0.  0.\n",
      "  0.  0. nan  1.  0.  0.  0.  0.  0. nan  0.  0.  1.  0.  0.  0.  0. nan\n",
      "  0.  0.  0.  0.  0. nan  0.  0. nan  1.  0.  0.  0. nan  0.  0.  0.  0.\n",
      "  0.  0.  0. nan nan  0.  0. nan  0.  1.  0. nan  0.  0.  0.  0.  0.  0.\n",
      "  0. nan nan  0. nan  0.  0.  0.  0.  0.  0.  0.  0. nan  0.  0.  0. nan\n",
      "  1.  0. nan nan  0.  0. nan nan  0.  0.  0.  0.  0.  0. nan nan nan  1.\n",
      "  0. nan  0. nan  0. nan  0.  0.  0.  0.  0.  0.  0.  0.  0. nan  1.  0.\n",
      "  0.  0.  0.  0. 11.  5.  6.  4.  3.  8.  7.  1. 12.  9.  2. 13.]\n",
      "[ 0.  0.  0.  1.  0.  0.  0. nan  0.  0.  0.  0.  0.  0.  0.  1.  0.  0.\n",
      "  0.  0. nan nan  0.  0.  0.  0. nan nan  0. nan  0.  0. nan  0.  0.  0.\n",
      "  0. nan  0.  0.  0.  0.  0.  0.  0.  0.  0. nan  0.  0. nan  1.  0. nan\n",
      "  0.  0.  0.  0.  1.  0. nan  0.  0.  0.  0.  0.  0. nan  0.  0.  0.  0.\n",
      "  0.  0.  0.  1.  0.  0.  0.  0.  0. nan  0. nan  1.  0.  0.  0.  0.  0.\n",
      "  0.  0. nan  0.  0.  0. nan  0. nan  1.  0.  0.  0. nan  0.  0.  0.  0.\n",
      " nan nan nan nan  0.  0. nan  0.  0.  1. nan  0.  0.  0.  0.  0.  0.  0.\n",
      "  0. nan  0.  0.  0.  0.  0.  0. nan nan  0.  0.  0.  0.  0. nan  0.  0.\n",
      " nan nan  1. nan  0.  0.  0.  0. nan  0.  0.  0.  0. nan  0.  0. nan  1.\n",
      " nan  0.  0.  0.  0.  0. nan  0.  0.  0.  0.  0.  0. nan  0.  0.  1.  0.\n",
      "  0. nan  0.  0. 11.  5.  6.  4.  3.  8.  7.  1. 12.  9.  2. 13.]\n",
      "[ 0.  0.  0. nan  0. nan  0.  0.  0.  0.  0.  0.  0.  0.  0.  1. nan nan\n",
      "  0.  0.  0.  0.  0. nan nan  0.  0.  0.  0.  0.  0. nan  0.  0. nan  0.\n",
      " nan  1.  0.  0.  0.  0. nan  0.  0. nan  0.  0. nan  0.  0.  1.  0. nan\n",
      "  0.  0.  0. nan  1.  0.  0.  0.  0.  0.  0.  0. nan  0.  0.  0.  0.  0.\n",
      "  0.  0.  0.  1.  0.  0.  0.  0.  0.  0.  0.  0.  1. nan  0.  0.  0.  0.\n",
      "  0.  0. nan  0. nan  0.  0.  0. nan  1.  0.  0.  0. nan  0.  0.  0.  0.\n",
      "  0.  0.  0.  0.  0. nan  0. nan nan  1.  0.  0.  0.  0.  0. nan  0.  0.\n",
      " nan nan  0. nan  0.  0.  0.  0.  0.  0. nan  0.  0.  0.  0.  0.  0.  0.\n",
      "  1.  0. nan  0.  0.  0. nan  0.  0.  0. nan  0.  0. nan  0. nan nan  1.\n",
      "  0.  0.  0.  0.  0.  0.  0.  0.  0. nan  0. nan nan  0.  0.  0.  1.  0.\n",
      " nan  0.  0.  0. 11.  5.  6.  4.  3.  8.  7.  1. 12.  9.  2. 13.]\n",
      "[ 0.  0.  0.  1.  0.  0.  0. nan  0.  0.  0.  0. nan  0. nan  1.  0.  0.\n",
      "  0. nan  0.  0.  0.  0.  0. nan  0.  0.  0.  0.  0. nan  0.  0.  0. nan\n",
      "  0.  1. nan  0.  0.  0.  0.  0.  0.  0.  0.  0. nan nan nan  1. nan nan\n",
      "  0.  0. nan nan  1. nan  0.  0. nan  0. nan nan  0.  0.  0. nan  0.  0.\n",
      "  0.  0.  0.  1.  0.  0.  0.  0.  0.  0.  0.  0.  1. nan  0.  0.  0.  0.\n",
      "  0. nan  0.  0.  0.  0.  0. nan nan  1. nan  0.  0.  0.  0.  0.  0. nan\n",
      "  0.  0.  0.  0.  0.  0. nan  0.  0.  1.  0.  0.  0.  0.  0.  0. nan  0.\n",
      "  0.  1.  0.  0.  0.  0.  0.  0. nan  0.  0.  0.  0.  0.  0. nan nan nan\n",
      "  1.  0.  1.  0.  0. nan  0. nan nan  0.  0.  0.  0.  0.  0.  0.  0.  1.\n",
      "  0.  0.  0.  0.  0.  0.  0. nan  0.  0. nan  0.  0. nan  0.  0.  1. nan\n",
      "  0.  0.  0.  0. 11.  5.  6.  4.  3.  8.  7.  1. 12.  9.  2. 13.]\n",
      "[nan  0.  0.  1. nan nan  0.  0.  0.  0.  0.  0. nan  0.  0. nan  0.  0.\n",
      " nan  0.  0.  0. nan  0.  0.  0.  0.  0.  0.  0.  0.  0.  0. nan  0.  0.\n",
      "  0.  1.  0.  0.  0.  0.  0.  0.  0.  0. nan nan  0.  0.  0. nan  0.  0.\n",
      " nan  0.  0. nan  1.  0.  0. nan nan  0.  0.  0.  0.  0.  0.  0.  0.  0.\n",
      "  0.  0.  0.  1.  0.  0.  0.  0.  0.  0.  0.  0.  1.  0.  0.  0. nan nan\n",
      "  0. nan  0. nan  0. nan  0.  0. nan  1.  0.  0. nan  0.  0. nan  0.  0.\n",
      " nan  0.  0.  0.  0. nan  0. nan nan nan  0. nan  0. nan  0. nan  0. nan\n",
      " nan  1. nan  0.  0.  0.  0.  0.  0.  0. nan  0.  0. nan  0.  0.  0. nan\n",
      " nan  0. nan  0.  0.  0.  0.  0.  0.  0.  0.  0.  0. nan  0.  0.  0.  1.\n",
      "  0.  0.  0.  0.  0. nan  0.  0.  0.  0.  0.  0.  0.  0.  0.  0.  1.  0.\n",
      "  0.  0. nan  0. 11.  5.  6.  4.  3.  8.  7.  1. 12.  9.  2. 13.]\n",
      "Found solution with objective 15500.0.\n"
     ]
    }
   ],
   "source": [
    "select = MABSelector(scores=[5, 2, 1, 0.5],\n",
    "                     num_destroy=1,\n",
    "                     num_repair=1,\n",
    "                     learning_policy=LearningPolicy.EpsilonGreedy(epsilon=0.15))\n",
    "\n",
    "alns = make_alns()\n",
    "res = alns.iterate(init_sol, select, accept, MaxIterations(10))\n",
    "\n",
    "print(f\"Found solution with objective {res.best_state.objective()}.\")"
   ]
  },
  {
   "cell_type": "code",
   "execution_count": null,
   "metadata": {},
   "outputs": [],
   "source": []
  }
 ],
 "metadata": {
  "kernelspec": {
   "display_name": "Python 3 (ipykernel)",
   "language": "python",
   "name": "python3"
  },
  "language_info": {
   "codemirror_mode": {
    "name": "ipython",
    "version": 3
   },
   "file_extension": ".py",
   "mimetype": "text/x-python",
   "name": "python",
   "nbconvert_exporter": "python",
   "pygments_lexer": "ipython3",
   "version": "3.9.16"
  }
 },
 "nbformat": 4,
 "nbformat_minor": 2
}
