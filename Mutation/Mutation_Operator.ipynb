{
 "cells": [
  {
   "cell_type": "code",
   "execution_count": 5,
   "id": "f5312f01",
   "metadata": {},
   "outputs": [],
   "source": [
    "import numpy as np\n",
    "import pyscipopt as scip\n",
    "\n",
    "import pandas as pd\n",
    "from typing import List, Union\n"
   ]
  },
  {
   "cell_type": "code",
   "execution_count": 6,
   "id": "1f221d3e",
   "metadata": {},
   "outputs": [],
   "source": [
    "SEED = 42\n",
    "np.random.seed(SEED)"
   ]
  },
  {
   "cell_type": "code",
   "execution_count": 7,
   "id": "013ffd21",
   "metadata": {},
   "outputs": [],
   "source": [
    "\n",
    "class BaseOperator:\n",
    "    def __init__(self, problem_instance_file: str) -> None:\n",
    "        self.model = scip.Model()\n",
    "        self.model.hideOutput()\n",
    "        self.model.readProblem(problem_instance_file)\n",
    "\n",
    "\n",
    "class OperatorExtractor(BaseOperator):\n",
    "    def __init__(self, problem_instance_file: str) -> None:\n",
    "        super().__init__(problem_instance_file)\n",
    "\n",
    "    def LP_relax(self):\n",
    "        for v in self.model.getVars():\n",
    "            self.model.chgVarType(v, 'CONTINUOUS') #Continious relaxation of the problem\n",
    "        self.model.optimize()\n",
    "        solution=[]\n",
    "        for v in self.model.getVars():\n",
    "            if v.name != \"n\":\n",
    "                solution.append(self.model.getVal(v))\n",
    "        #print(solution)\n",
    "        len_sol = len(solution)\n",
    "        return self.model.getObjVal(),solution,len_sol\n",
    "    \n",
    "    \n",
    "    def get_sense(self) -> str:\n",
    "        sense = self.model.getObjectiveSense()\n",
    "        return sense\n",
    "\n",
    "    \n",
    "    def Model(self):\n",
    "        return self.model\n",
    "    \n",
    "    def extract_feature(self) -> Union[List[Union[int, float]], np.ndarray, pd.Series, pd.DataFrame]:\n",
    "        \"\"\"\n",
    "        Extracts features from MIP instances\n",
    "\n",
    "        Returns\n",
    "        -------\n",
    "        feature_features : Union[List[Union[int, float]], np.ndarray, pd.Series, pd.DataFrame]\n",
    "            The extracted features\n",
    "        \"\"\"\n",
    "        # Extract variable and constraints features\n",
    "        variable_features = self.extract_variable_features()\n",
    "        constraint_features, constraint_signs = self.extract_constraint_features()\n",
    "        objective_sense = self.get_sense()\n",
    "\n",
    "        # Create a DataFrame with the desired format for MABSelector\n",
    "        feature_df = pd.concat([variable_features, constraint_features, constraint_signs], axis=1)\n",
    "        feature_df.insert(0, 'objective_sense', objective_sense)\n",
    "        feature_df.loc[1:, 'objective_sense'] = np.nan\n",
    "        feature_df.fillna('nan', inplace=True)\n",
    "        feature_df.reset_index(drop=True, inplace=True)\n",
    "\n",
    "        return feature_df"
   ]
  },
  {
   "cell_type": "code",
   "execution_count": 8,
   "id": "91c820f6",
   "metadata": {},
   "outputs": [
    {
     "name": "stdout",
     "output_type": "stream",
     "text": [
      "LP RELAXED SOL IS: [0.9285714285714286, 0.0, 0.0, 0.0714285714285714, 0.0, 0.0, 0.0, 0.0, 0.0, 0.0, 0.0, 0.0, 0.857142857142857, 0.07142857142857151, 0.0, 0.0, 0.0, 0.0, 0.0, 0.0, 0.0, 0.07142857142857151, 0.0, 0.0, 0.0, 0.9285714285714285, 0.0, 0.0, 0.0, 0.0, 0.0, 0.0, 0.0, 0.07142857142857151, 0.0, 0.0, 0.0, 0.9285714285714285, 0.07142857142857151, 0.0, 0.0, 0.0, 0.0, 0.0, 0.0, 0.0, 0.0, 0.0, 0.0, 0.0, 0.0, 0.0, 0.0, 0.0, 0.9642857142857142, 0.03571428571428581, 0.0, 0.0, 0.0, 0.0, 0.0, 0.0, 0.0, 0.0, 0.0, 0.0, 0.0, 0.1071428571428572, 0.8928571428571429, 0.0, 0.0, 0.0, 0.0, 0.0, 0.0, 0.0, 0.07142857142857151, 0.0, 0.0, 0.0, 0.8928571428571428, 0.03571428571428581, 0.0, 0.0, 0.0, 0.0, 0.0, 0.0, 0.0, 0.0, 0.0, 0.0, 0.0, 0.0, 0.0, 0.0, 0.9285714285714285, 0.07142857142857151, 0.0, 0.0, 0.0, 0.0, 0.0, 0.0, 0.0, 0.0, 0.0, 0.0, 0.0, 0.07142857142857151, 0.9285714285714286, 0.0, 0.0, 0.0, 0.0, 0.0, 0.0, 0.0, 0.0, 0.0, 0.0, 0.0, 0.9285714285714285, 0.07142857142857151, 0.0, 0.0, 0.0, 0.0, 0.0, 0.0, 0.07142857142857151, 0.0, 0.0, 0.0, 0.0, 0.0, 0.0, 0.0, 0.9285714285714286, 0.0, 0.0, 0.0, 0.0, 0.07142857142857151, 0.0, 0.0, 0.0, 0.0, 0.0, 0.0, 0.0, 0.9285714285714285, 0.0, 0.0, 0.0, 0.0, 0.0, 0.0, 0.0, 0.0, 0.0, 0.0, 0.0, 0.0, 0.0, 0.0, 1.0, 0.0, 0.0, 0.0, 0.0, 0.0, 0.0, 0.0, 0.0, 0.0, 0.0, 0.0, 0.0, 1.0, 0.0, 0.0, 0.0, 0.0, 0.0, 0.0, 0.0, 0.0, 0.0, 0.5, 0.0, 0.0, 0.0, 0.0, -1.7763568394002505e-15, 0.0]\n",
      "Num Var: 196\n"
     ]
    }
   ],
   "source": [
    "import os\n",
    "\n",
    "\n",
    "def run_mip_operator_extractor(instance_path):\n",
    "\n",
    "    \n",
    "    operator_extractor = OperatorExtractor(problem_instance_file=instance_path)    \n",
    "    \n",
    "    lp_relaxed_value, solution,n=operator_extractor.LP_relax()\n",
    "    model=operator_extractor.Model()\n",
    "\n",
    "    print(\"LP RELAXED SOL IS:\", solution)\n",
    "    print(\"Num Var:\", n)\n",
    "    \n",
    "    return lp_relaxed_value, solution, n,model\n",
    "if __name__ == \"__main__\":\n",
    "\n",
    "    instance_path = \"data/neos-5140963-mincio.mps.gz\"\n",
    "\n",
    "    # Create MIP instance and LP relaxed Solution\n",
    "    lp_relaxed_value, solution, n,model=run_mip_operator_extractor(instance_path)\n",
    "    \n",
    "    "
   ]
  },
  {
   "cell_type": "markdown",
   "id": "6109bf0c",
   "metadata": {},
   "source": [
    "# MIP State Class \n",
    "##Includes current objective and problem parameters."
   ]
  },
  {
   "cell_type": "code",
   "execution_count": 9,
   "id": "6abffe27",
   "metadata": {},
   "outputs": [],
   "source": [
    "\n",
    "\n",
    "class MIPState:\n",
    "    \"\"\"\n",
    "    Solution class for the mip problem. It stores the current\n",
    "    solution as a vector of variables, one for each item.\n",
    "    \n",
    "    Current objective also stored.\n",
    "    \"\"\"\n",
    "\n",
    "    def __init__(self, x: np.ndarray):\n",
    "        self.x = x\n",
    "        #print(x)\n",
    "\n",
    "    def objective(self) -> int:\n",
    "        #return model.getSolObjVal(self.x)\n",
    "        return model.getObjVal(self.x)\n",
    "    \n",
    "    def proxy_objective(self) -> int:\n",
    "        #return model.getSolObjVal(self.x)\n",
    "        p = np.random.randint(1, 100, size=n)\n",
    "        return p @ self.x\n",
    "    \n",
    "    def lenght(self)-> int:\n",
    "        return len(self.x)\n",
    "    \n",
    "    #def objective2(self) -> int:\n",
    "        #return model.getObjective()"
   ]
  },
  {
   "cell_type": "markdown",
   "id": "e345dc19",
   "metadata": {},
   "source": [
    "# Read the LP solution"
   ]
  },
  {
   "cell_type": "code",
   "execution_count": 10,
   "id": "6f6775d2",
   "metadata": {},
   "outputs": [
    {
     "data": {
      "text/plain": [
       "8877.0"
      ]
     },
     "execution_count": 10,
     "metadata": {},
     "output_type": "execute_result"
    }
   ],
   "source": [
    "lp_sol = MIPState(solution)\n",
    "lp_sol.objective()\n",
    "# Terrible - but simple - first solution, where only the first item is\n",
    "# selected.\n",
    "#init_sol = MIPState(np.zeros(n))\n",
    "#init_sol.x[0] = 1\n",
    "\n",
    "#init_sol.objective()"
   ]
  },
  {
   "cell_type": "markdown",
   "id": "1d32c152",
   "metadata": {},
   "source": [
    "# Mutation Operator"
   ]
  },
  {
   "cell_type": "code",
   "execution_count": 11,
   "id": "55914419",
   "metadata": {},
   "outputs": [],
   "source": [
    "rnd_state = np.random.RandomState(SEED)\n",
    "\n",
    "#print(rnd_state)\n",
    "#In our operators this is delta\n",
    "\n",
    "# Percentage of items to remove in each iteration\n",
    "delta = .25 #change this to delta\n",
    "n=196\n",
    "\n",
    "def to_destroy(state: MIPState) -> int:\n",
    "    return int(delta * state.x.sum())\n",
    "\n",
    "\n",
    "def mutation(state: MIPState, rnd_state):\n",
    "    state.x=np.array(state.x)\n",
    "    probs = state.x / state.x.sum() #Only take 1's, for 0's this prob is =0\n",
    "    #print(probs)\n",
    "    p = np.random.randint(1, 100, size=n)\n",
    "    #to_remove = rnd_state.choice(np.arange(n), size=to_destroy(state), p=probs) #vectordeki bazilarini secip 0 liyoruz.\n",
    "    to_remove = rnd_state.choice(np.arange(n), size=to_destroy(state)) #vectordeki bazilarini secip 0 liyoruz.\n",
    "\n",
    "    assignments = state.x.copy() #copy leyip store ediyoruz.\n",
    "    assignments[to_remove] = 0 #secilenleri yenisinde store edip\n",
    "\n",
    "    #return MIPState(x=assignments) #yeni lani return ediyoruz\n",
    "    cand= MIPState(x=assignments)\n",
    "    return mutation_repair(cand,rnd_state)\n",
    "\n",
    "    #return KnapsackState(x=assignments) if delta*x.objective() + (1-delta)*xlp.objective()\n",
    "    \n",
    "def mutation_repair(cand, rnd_state):\n",
    "    unselected = np.argwhere(cand.x == 0)\n",
    "    rnd_state.shuffle(unselected)\n",
    "    \"\"\"\n",
    "    while True:\n",
    "        can_insert = w[unselected] <= W - state.weight()\n",
    "        unselected = unselected[can_insert]\n",
    "\n",
    "        if len(unselected) != 0:\n",
    "            insert, unselected = unselected[0], unselected[1:]\n",
    "            state.x[insert] = 1\n",
    "        else:\n",
    "            return cand if lp_relaxed_value >= cand.objective() else lp_sol\n",
    "    \"\"\"\n",
    "    return cand if lp_relaxed_value >= cand.proxy_objective() else lp_sol"
   ]
  },
  {
   "cell_type": "code",
   "execution_count": 12,
   "id": "e895a5a0",
   "metadata": {},
   "outputs": [
    {
     "data": {
      "text/plain": [
       "<__main__.MIPState at 0x2cc6a1aa6a0>"
      ]
     },
     "execution_count": 12,
     "metadata": {},
     "output_type": "execute_result"
    }
   ],
   "source": [
    "mut_sol = MIPState(solution)\n",
    "#lp_sol.objective()\n",
    "mut_sol2 = mutation(mut_sol,rnd_state)\n",
    "mut_sol2\n",
    "# Terrible - but simple - first solution, where only the first item is\n",
    "# selected.\n",
    "#init_sol = MIPState(np.zeros(n))\n",
    "#init_sol.x[0] = 1\n",
    "\n",
    "#init_sol.objective()"
   ]
  },
  {
   "cell_type": "code",
   "execution_count": null,
   "id": "8738ff78",
   "metadata": {},
   "outputs": [],
   "source": []
  }
 ],
 "metadata": {
  "kernelspec": {
   "display_name": "Python 3 (ipykernel)",
   "language": "python",
   "name": "python3"
  },
  "language_info": {
   "codemirror_mode": {
    "name": "ipython",
    "version": 3
   },
   "file_extension": ".py",
   "mimetype": "text/x-python",
   "name": "python",
   "nbconvert_exporter": "python",
   "pygments_lexer": "ipython3",
   "version": "3.9.16"
  }
 },
 "nbformat": 4,
 "nbformat_minor": 5
}
