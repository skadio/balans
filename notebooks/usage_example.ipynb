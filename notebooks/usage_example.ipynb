{
 "cells": [
  {
   "cell_type": "code",
   "execution_count": null,
   "outputs": [],
   "source": [
    "# Contextual multi-armed bandits\n",
    "from mabwiser.mab import LearningPolicy\n",
    "\n",
    "# Adaptive large neigborhood\n",
    "from alns.select import MABSelector\n",
    "from alns.accept import HillClimbing\n",
    "from alns.stop import MaxIterations\n",
    "\n",
    "# Meta-solver built on top of SCIP\n",
    "from balans.solver import Balans\n",
    "from balans.destroy import DestroyOperators\n",
    "from balans.repair import RepairOperators\n",
    "\n",
    "# Balans\n",
    "balans = Balans(destroy_ops=[DestroyOperators.Dins,\n",
    "                             DestroyOperators.Mutation,\n",
    "                             DestroyOperators.Local_Branching,\n",
    "                             DestroyOperators.Rens,\n",
    "                             DestroyOperators.Rins,\n",
    "                             DestroyOperators.Zero_Objective],\n",
    "                repair_ops=[RepairOperators.Repair],\n",
    "                selector = MABSelector(scores=[5, 2, 1, 0.5], num_destroy=6, num_repair=1,\n",
    "                                       learning_policy=LearningPolicy.EpsilonGreedy(epsilon=0.15)),\n",
    "                accept=HillClimbing(),\n",
    "                stop=MaxIterations(100))\n",
    "\n",
    "# Run\n",
    "result=balans.solve(\"noswot.mps.gz\")\n",
    "\n",
    "# Result\n",
    "print(\"Best solution:\", result.best_state.objective())"
   ],
   "metadata": {
    "collapsed": false
   }
  },
  {
   "cell_type": "code",
   "execution_count": null,
   "outputs": [],
   "source": [],
   "metadata": {
    "collapsed": false
   }
  }
 ],
 "metadata": {
  "kernelspec": {
   "display_name": "Python 3 (ipykernel)",
   "language": "python",
   "name": "python3"
  },
  "language_info": {
   "codemirror_mode": {
    "name": "ipython",
    "version": 3
   },
   "file_extension": ".py",
   "mimetype": "text/x-python",
   "name": "python",
   "nbconvert_exporter": "python",
   "pygments_lexer": "ipython3",
   "version": "3.9.16"
  }
 },
 "nbformat": 4,
 "nbformat_minor": 2
}
